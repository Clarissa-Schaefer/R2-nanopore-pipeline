{
 "cells": [
  {
   "cell_type": "markdown",
   "metadata": {},
   "source": [
    "# Alignment and Preprocessing "
   ]
  },
  {
   "cell_type": "markdown",
   "metadata": {},
   "source": [
    "## Base Calling, Demultiplexing, Adaptertrimming "
   ]
  },
  {
   "cell_type": "code",
   "execution_count": null,
   "metadata": {},
   "outputs": [
    {
     "name": "stdout",
     "output_type": "stream",
     "text": [
      "zsh:1: command not found: dorado\n"
     ]
    }
   ],
   "source": [
    "!dorado basecaller ../software/dorado-0.9.0-linux-x64/bin/dna_r10.4.1_e8.2_400bps_sup@v5.0.0 pod5 --kit-name EXP-NBD104 --emit-fastq > output_sup.fastq"
   ]
  },
  {
   "cell_type": "markdown",
   "metadata": {},
   "source": [
    "## Snakemake File \n",
    "\n",
    "- Read Quality Trimming \n",
    "- Minimap2 Alignment (ROI with/wo Transgene)\n",
    "- Collect IDs from both Alignments\n",
    "- Filter Cutadapt FastQ file based on IDs \n",
    "- Transform filtered FastQ file to FASTA \n",
    "- RepeatMasker Feature Annotation"
   ]
  },
  {
   "cell_type": "markdown",
   "metadata": {},
   "source": [
    "## Transform to Genbank file "
   ]
  },
  {
   "cell_type": "code",
   "execution_count": 1,
   "metadata": {},
   "outputs": [],
   "source": [
    "from Bio import SeqIO\n",
    "from Bio.Seq import Seq\n",
    "from Bio.SeqFeature import SeqFeature, FeatureLocation\n",
    "from Bio.SeqRecord import SeqRecord\n",
    "from Bio.Seq import Seq\n",
    "import os\n",
    "import matplotlib.pyplot as plt\n",
    "from collections import defaultdict"
   ]
  },
  {
   "cell_type": "code",
   "execution_count": 2,
   "metadata": {},
   "outputs": [
    {
     "name": "stderr",
     "output_type": "stream",
     "text": [
      "/Users/cschaefe/.local/share/miniforge3/envs/RepeatMaster2/lib/python3.10/site-packages/Bio/SeqIO/InsdcIO.py:727: BiopythonWarning: Increasing length of locus line to allow long name. This will result in fields that are not in usual positions.\n",
      "  warnings.warn(\n",
      "/Users/cschaefe/.local/share/miniforge3/envs/RepeatMaster2/lib/python3.10/site-packages/Bio/SeqIO/InsdcIO.py:554: BiopythonWarning: Annotation 'RG:Z:feee0ef1ba0fd9a1178fb7aa15d3168832ac81d5_dna_r10.4.1_e8.2_400bps_sup@v5.0.0' too long\n",
      "  warnings.warn(f\"Annotation {text!r} too long\", BiopythonWarning)\n",
      "/Users/cschaefe/.local/share/miniforge3/envs/RepeatMaster2/lib/python3.10/site-packages/Bio/SeqIO/InsdcIO.py:554: BiopythonWarning: Annotation 'RG:Z:feee0ef1ba0fd9a1178fb7aa15d3168832ac81d5_dna_r10.4.1_e8.2_400bps_sup@v5.0.0_EXP-NBD104_barcode01' too long\n",
      "  warnings.warn(f\"Annotation {text!r} too long\", BiopythonWarning)\n",
      "/Users/cschaefe/.local/share/miniforge3/envs/RepeatMaster2/lib/python3.10/site-packages/Bio/SeqIO/InsdcIO.py:554: BiopythonWarning: Annotation 'RG:Z:feee0ef1ba0fd9a1178fb7aa15d3168832ac81d5_dna_r10.4.1_e8.2_400bps_sup@v5.0.0_EXP-NBD104_barcode03' too long\n",
      "  warnings.warn(f\"Annotation {text!r} too long\", BiopythonWarning)\n",
      "/Users/cschaefe/.local/share/miniforge3/envs/RepeatMaster2/lib/python3.10/site-packages/Bio/SeqIO/InsdcIO.py:554: BiopythonWarning: Annotation 'RG:Z:feee0ef1ba0fd9a1178fb7aa15d3168832ac81d5_dna_r10.4.1_e8.2_400bps_sup@v5.0.0_EXP-NBD104_barcode02' too long\n",
      "  warnings.warn(f\"Annotation {text!r} too long\", BiopythonWarning)\n"
     ]
    },
    {
     "data": {
      "text/plain": [
       "26386"
      ]
     },
     "execution_count": 2,
     "metadata": {},
     "output_type": "execute_result"
    }
   ],
   "source": [
    "# Transform to gb (Genbank) file \n",
    "read_dict={}\n",
    "for seq_record in SeqIO.parse(\"00-Data/samples_filtered/sample-cutadapt_sup-filtered.fasta\", \"fasta\"):\n",
    "    if seq_record.id not in read_dict:\n",
    "        seq_record.annotations = {\"molecule_type\": \"DNA\"}\n",
    "        read_dict[seq_record.id] = seq_record\n",
    "\n",
    "for line in open(\"00-Data/repeatmaskered/sample-cutadapt_sup-filtered.fasta.out.xm\"):\n",
    "    # --- Fetch RepeatMasker information\n",
    "    line = line.strip().split()\n",
    "    seq_id = line[4]\n",
    "\n",
    "    # Read information\n",
    "    read_start = int(line[5]) - 1  # 0-based\n",
    "    read_end = int(line[6])\n",
    "    read_strand = line[8]\n",
    "\n",
    "    # Annotated feature information\n",
    "    annotated_feature_type = line[9].split(\"#\")[0]\n",
    "\n",
    "    # Reference information (pick the right one based on strand)\n",
    "    if read_strand == \"+\":\n",
    "        ref_start = int(line[10]) - 1 # 0-based\n",
    "        ref_end = int(line[11])\n",
    "    else:\n",
    "        ref_start = int(line[12]) - 1 # 0-based\n",
    "        ref_end = int(line[11])\n",
    "\n",
    "    # --- Add feature to SeqRecord ---\n",
    "    # Get the SeqRecord, or skip if it doesn't have a sequence (unlikely)\n",
    "    if not (seq_record := read_dict.get(seq_id)):\n",
    "        continue\n",
    "    \n",
    "    # Create SeqFeature\n",
    "    feature_strand = +1 if read_strand == '+' else -1\n",
    "    feature = SeqFeature(\n",
    "        FeatureLocation(read_start, read_end, strand=feature_strand),\n",
    "        id=annotated_feature_type,\n",
    "        type=annotated_feature_type,\n",
    "        qualifiers={\"ref_position_start\": ref_start, \"ref_position_end\": ref_end}\n",
    "    )\n",
    "    # Add feature back to SeqRecord\n",
    "    seq_record.features.append(feature)\n",
    "\n",
    "# Write to Genbank file\n",
    "SeqIO.write(list(read_dict.values()), \"00-Data/feature_annotated/Repeatmasker_transgene.gb\", \"genbank\")"
   ]
  }
 ],
 "metadata": {
  "kernelspec": {
   "display_name": "RepeatMaster2",
   "language": "python",
   "name": "python3"
  },
  "language_info": {
   "codemirror_mode": {
    "name": "ipython",
    "version": 3
   },
   "file_extension": ".py",
   "mimetype": "text/x-python",
   "name": "python",
   "nbconvert_exporter": "python",
   "pygments_lexer": "ipython3",
   "version": "3.10.16"
  }
 },
 "nbformat": 4,
 "nbformat_minor": 2
}
